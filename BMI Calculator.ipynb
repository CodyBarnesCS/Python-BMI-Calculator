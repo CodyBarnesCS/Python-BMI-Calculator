{
 "cells": [
  {
   "cell_type": "markdown",
   "id": "367106eb",
   "metadata": {},
   "source": [
    "# BMI Calculator"
   ]
  },
  {
   "cell_type": "code",
   "execution_count": 38,
   "id": "6dcbab63",
   "metadata": {
    "scrolled": true
   },
   "outputs": [
    {
     "name": "stdout",
     "output_type": "stream",
     "text": [
      "Please enter your weight.\n"
     ]
    }
   ],
   "source": [
    "print('Please enter your weight.')"
   ]
  },
  {
   "cell_type": "code",
   "execution_count": 39,
   "id": "fbf4933c",
   "metadata": {},
   "outputs": [
    {
     "name": "stdout",
     "output_type": "stream",
     "text": [
      "Pounds: dfasdfa\n",
      "Please enter a valid number.\n",
      "Pounds: 180.3\n"
     ]
    }
   ],
   "source": [
    "while True :\n",
    "    weight = input('Pounds: ')\n",
    "    try :\n",
    "        weight = float(weight)\n",
    "        break\n",
    "    except:\n",
    "        print('Please enter a valid number.')\n",
    "        continue"
   ]
  },
  {
   "cell_type": "code",
   "execution_count": 42,
   "id": "fc732a54",
   "metadata": {},
   "outputs": [
    {
     "name": "stdout",
     "output_type": "stream",
     "text": [
      "Please enter you height.\n"
     ]
    }
   ],
   "source": [
    "print('Please enter you height.')"
   ]
  },
  {
   "cell_type": "code",
   "execution_count": 41,
   "id": "8204386e",
   "metadata": {},
   "outputs": [
    {
     "name": "stdout",
     "output_type": "stream",
     "text": [
      "Feet: dfads\n",
      "Please enter a valid whole number.\n",
      "Feet: 5.10\n",
      "Please enter a valid whole number.\n",
      "Feet: 5\n"
     ]
    }
   ],
   "source": [
    "while True :\n",
    "    feet = input('Feet: ')\n",
    "    try:\n",
    "        feet = int(feet)\n",
    "        break\n",
    "    except:\n",
    "        print('Please enter a valid whole number.')\n",
    "        continue"
   ]
  },
  {
   "cell_type": "code",
   "execution_count": 20,
   "id": "4f070568",
   "metadata": {
    "scrolled": true
   },
   "outputs": [
    {
     "name": "stdout",
     "output_type": "stream",
     "text": [
      "Inches: adfsfa\n",
      "Please enter a valid whole number.\n",
      "Inches: 9.5\n",
      "Please enter a valid whole number.\n",
      "Inches: 10\n"
     ]
    }
   ],
   "source": [
    "while True :\n",
    "    inches = input('Inches: ')\n",
    "    try:\n",
    "        inches = int(inches)\n",
    "        break\n",
    "    except:\n",
    "        print('Please enter a valid whole number.')\n",
    "        continue"
   ]
  },
  {
   "cell_type": "code",
   "execution_count": 37,
   "id": "3557e87d",
   "metadata": {},
   "outputs": [
    {
     "name": "stdout",
     "output_type": "stream",
     "text": [
      "Your BMI is: 25.9 and is in the Overweight category.\n"
     ]
    }
   ],
   "source": [
    "proper_height = (feet * 12) + inches\n",
    "bmi = (weight * 703) / (proper_height * proper_height)\n",
    "\n",
    "if bmi <= 18.4 :\n",
    "    category = 'Underweight'\n",
    "elif bmi >= 18.5 and bmi <= 24.9 :\n",
    "    category = 'Normal'\n",
    "elif bmi >= 25.0 and bmi <= 39.9 :\n",
    "    category = 'Overweight'\n",
    "else :\n",
    "    category = 'Obese'\n",
    "\n",
    "print('Your BMI is:', round(bmi, 1), 'and is in the', category, 'category.')"
   ]
  },
  {
   "cell_type": "code",
   "execution_count": 31,
   "id": "872a7fd3",
   "metadata": {},
   "outputs": [
    {
     "name": "stdout",
     "output_type": "stream",
     "text": [
      "BMI Categories:\n",
      "|   <= 18.4   | Underweight |\n",
      "| 18.5 - 24.9 | Normal      |\n",
      "| 25.0 - 39.9 | Overweight  |\n",
      "|   >= 40.0   | Obese       |\n"
     ]
    }
   ],
   "source": [
    "print('BMI Categories:')\n",
    "print('|   <= 18.4   | Underweight |')\n",
    "print('| 18.5 - 24.9 | Normal      |')\n",
    "print('| 25.0 - 39.9 | Overweight  |')\n",
    "print('|   >= 40.0   | Obese       |')"
   ]
  }
 ],
 "metadata": {
  "kernelspec": {
   "display_name": "Python 3 (ipykernel)",
   "language": "python",
   "name": "python3"
  },
  "language_info": {
   "codemirror_mode": {
    "name": "ipython",
    "version": 3
   },
   "file_extension": ".py",
   "mimetype": "text/x-python",
   "name": "python",
   "nbconvert_exporter": "python",
   "pygments_lexer": "ipython3",
   "version": "3.10.9"
  }
 },
 "nbformat": 4,
 "nbformat_minor": 5
}
